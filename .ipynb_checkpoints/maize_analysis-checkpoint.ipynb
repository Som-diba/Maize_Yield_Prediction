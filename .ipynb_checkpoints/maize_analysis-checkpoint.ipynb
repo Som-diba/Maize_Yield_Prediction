{
 "cells": [
  {
   "cell_type": "code",
   "execution_count": null,
   "metadata": {},
   "outputs": [],
   "source": [
    "import requests\n",
    "import pandas as pd\n",
    "import numpy as np"
   ]
  },
  {
   "cell_type": "code",
   "execution_count": null,
   "metadata": {},
   "outputs": [],
   "source": [
    "maize_data = pd.read_csv('FAOSTAT_data_en_8-7-2023.csv')\n",
    "maize_data.head(10)"
   ]
  },
  {
   "cell_type": "code",
   "execution_count": null,
   "metadata": {},
   "outputs": [],
   "source": [
    "maize_data.plot(kind=\"bar\", y = \"Area\", x= \"Year\" )"
   ]
  },
  {
   "cell_type": "code",
   "execution_count": null,
   "metadata": {},
   "outputs": [],
   "source": []
  },
  {
   "cell_type": "code",
   "execution_count": null,
   "metadata": {},
   "outputs": [],
   "source": []
  },
  {
   "cell_type": "code",
   "execution_count": null,
   "metadata": {},
   "outputs": [],
   "source": [
    "# Define the bounding box for Bavaria\n",
    "lat_min, lat_max = 47.0, 55.0  # Approximate latitude range for Germany\n",
    "lon_min, lon_max = 5.9, 15.0   # Approximate longitude range for Germany\n",
    "\n",
    "# Define the parameters for data retrieval\n",
    "parameters = 'PRECTOT,T2M_MIN,T2M_MAX'  # Precipitation, Min Temperature, Max Temperature\n",
    "start_date = '2013-01-01'\n",
    "end_date = '2021-12-31'\n",
    "\n",
    "# Create a grid of points within the bounding box\n",
    "latitudes = np.arange(lat_min, lat_max, 0.5)\n",
    "longitudes = np.arange(lon_min, lon_max, 0.5)\n",
    "\n",
    "# Prepare an empty DataFrame to hold the aggregated data\n",
    "nasa_data = pd.DataFrame()\n",
    "\n",
    "# Function to retrieve data from the NASA POWER API\n",
    "def fetch_power_data(lat, lon, start_date, end_date, parameters):\n",
    "    url = f\"https://power.larc.nasa.gov/api/temporal/monthly/point\"\n",
    "    params = {\n",
    "        'parameters': parameters,\n",
    "        'start': start_date,\n",
    "        'end': end_date,\n",
    "        'latitude': lat,\n",
    "        'longitude': lon,\n",
    "        'format': 'JSON',\n",
    "        'community': 'AG'\n",
    "    }\n",
    "    response = requests.get(url, params=params)\n",
    "    if response.status_code == 200:\n",
    "        data = response.json()\n",
    "        df = pd.DataFrame(data['properties']['parameter'])\n",
    "        df['latitude'] = lat\n",
    "        df['longitude'] = lon\n",
    "        return df\n",
    "    else:\n",
    "        print(f\"Failed to retrieve data for lat: {lat}, lon: {lon}\")\n",
    "        return pd.DataFrame()\n",
    "\n",
    "# Retrieve data for each point in the grid\n",
    "for lat in latitudes:\n",
    "    for lon in longitudes:\n",
    "        data = fetch_power_data(lat, lon, start_date, end_date, parameters)\n",
    "        if not data.empty:\n",
    "            all_data = pd.concat([all_data, data], ignore_index=True)\n",
    "\n",
    "# Save the aggregated data to a CSV file\n",
    "nasa_data.to_csv('bavaria_nasa_power_data.csv', index=False)\n",
    "\n",
    "# Display a sample of the aggregated data\n",
    "print(nasa_data.head())"
   ]
  }
 ],
 "metadata": {
  "kernelspec": {
   "display_name": "Python 3 (ipykernel)",
   "language": "python",
   "name": "python3"
  },
  "language_info": {
   "codemirror_mode": {
    "name": "ipython",
    "version": 3
   },
   "file_extension": ".py",
   "mimetype": "text/x-python",
   "name": "python",
   "nbconvert_exporter": "python",
   "pygments_lexer": "ipython3",
   "version": "3.10.11"
  }
 },
 "nbformat": 4,
 "nbformat_minor": 4
}
